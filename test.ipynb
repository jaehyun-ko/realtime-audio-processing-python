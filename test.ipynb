{
 "cells": [
  {
   "cell_type": "code",
   "execution_count": 2,
   "metadata": {},
   "outputs": [],
   "source": [
    "import numpy as np\n",
    "import soundcard as sc"
   ]
  },
  {
   "cell_type": "markdown",
   "metadata": {},
   "source": [
    "마이크 체크"
   ]
  },
  {
   "cell_type": "code",
   "execution_count": 6,
   "metadata": {},
   "outputs": [
    {
     "data": {
      "text/plain": [
       "[<Microphone 마이크(USB Audio Device) (1 channels)>,\n",
       " <Microphone ReSpeaker 4 Mic Array (UAC1.0) (ReSpeaker 4 Mic Array (UAC1.0)) (6 channels)>]"
      ]
     },
     "execution_count": 6,
     "metadata": {},
     "output_type": "execute_result"
    }
   ],
   "source": [
    "mics = sc.all_microphones()\n",
    "mics"
   ]
  },
  {
   "cell_type": "code",
   "execution_count": 8,
   "metadata": {},
   "outputs": [
    {
     "data": {
      "text/plain": [
       "<Microphone ReSpeaker 4 Mic Array (UAC1.0) (ReSpeaker 4 Mic Array (UAC1.0)) (6 channels)>"
      ]
     },
     "execution_count": 8,
     "metadata": {},
     "output_type": "execute_result"
    }
   ],
   "source": [
    "mic = mics[1]\n",
    "mic"
   ]
  },
  {
   "cell_type": "code",
   "execution_count": 11,
   "metadata": {},
   "outputs": [
    {
     "data": {
      "text/plain": [
       "['_id',\n",
       " 'isloopback',\n",
       " 'recorder',\n",
       " 'record',\n",
       " '_device_ptr',\n",
       " 'id',\n",
       " 'name',\n",
       " 'channels',\n",
       " '_audio_client']"
      ]
     },
     "execution_count": 11,
     "metadata": {},
     "output_type": "execute_result"
    }
   ],
   "source": [
    "attributes = [attr for attr in mic.__dir__() if not attr.startswith('__')]\n",
    "attributes"
   ]
  },
  {
   "cell_type": "code",
   "execution_count": 20,
   "metadata": {},
   "outputs": [],
   "source": [
    "sr = 16000\n"
   ]
  },
  {
   "cell_type": "code",
   "execution_count": 22,
   "metadata": {},
   "outputs": [
    {
     "name": "stdout",
     "output_type": "stream",
     "text": [
      "(16000, 6)\n",
      "(16000, 6)\n",
      "(16000, 6)\n",
      "(16000, 6)\n",
      "(16000, 6)\n",
      "(16000, 6)\n",
      "(16000, 6)\n",
      "(16000, 6)\n",
      "(16000, 6)\n",
      "(16000, 6)\n"
     ]
    }
   ],
   "source": [
    "with mic._Recorder(samplerate=sr) as rc:\n",
    "    for _ in range(10):\n",
    "        data = rc.record(numframes=sr)\n",
    "        print(data.shape)\n",
    "        \n",
    "        "
   ]
  }
 ],
 "metadata": {
  "kernelspec": {
   "display_name": "stream",
   "language": "python",
   "name": "python3"
  },
  "language_info": {
   "codemirror_mode": {
    "name": "ipython",
    "version": 3
   },
   "file_extension": ".py",
   "mimetype": "text/x-python",
   "name": "python",
   "nbconvert_exporter": "python",
   "pygments_lexer": "ipython3",
   "version": "3.12.1"
  }
 },
 "nbformat": 4,
 "nbformat_minor": 2
}
